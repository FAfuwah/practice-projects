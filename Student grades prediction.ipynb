{
 "cells": [
  {
   "cell_type": "markdown",
   "id": "b4872d5c",
   "metadata": {},
   "source": [
    "## Introduction:\n",
    "This consists of the data of students' marks in different courses throughout the university tenure and the cumulative GPA calculated on them. The data has 43 columns in totality, including seat numbers, cumulative grade point average, and course codes that represent different departments and years."
   ]
  },
  {
   "cell_type": "markdown",
   "id": "24a2f052",
   "metadata": {},
   "source": [
    "# Import libraries"
   ]
  },
  {
   "cell_type": "code",
   "execution_count": 1,
   "id": "4a305e17",
   "metadata": {},
   "outputs": [],
   "source": [
    "import pandas as pd\n",
    "from sklearn.model_selection import train_test_split\n",
    "from sklearn.impute import SimpleImputer\n",
    "from sklearn.preprocessing import OneHotEncoder, StandardScaler\n",
    "from sklearn.compose import ColumnTransformer\n",
    "from sklearn.pipeline import Pipeline\n",
    "from sklearn.linear_model import LinearRegression\n",
    "from sklearn.ensemble import RandomForestRegressor\n",
    "from sklearn.metrics import mean_squared_error"
   ]
  },
  {
   "cell_type": "markdown",
   "id": "432e0c61",
   "metadata": {},
   "source": [
    "## Load dataset"
   ]
  },
  {
   "cell_type": "code",
   "execution_count": 2,
   "id": "b6d9ee4c",
   "metadata": {},
   "outputs": [],
   "source": [
    "data = pd.read_csv(\"Grades.csv\") "
   ]
  },
  {
   "cell_type": "code",
   "execution_count": 3,
   "id": "ef3d02ce",
   "metadata": {},
   "outputs": [],
   "source": [
    "# Check if 'Seat No' column exists\n",
    "if 'Seat No' in data.columns:\n",
    "    # Drop 'Seat No' column\n",
    "    data.drop(columns=[\"Seat No\"], inplace=True)"
   ]
  },
  {
   "cell_type": "markdown",
   "id": "466ae0ca",
   "metadata": {},
   "source": [
    "# Split features and target variable"
   ]
  },
  {
   "cell_type": "code",
   "execution_count": 4,
   "id": "54450238",
   "metadata": {},
   "outputs": [],
   "source": [
    "X = data.drop(columns=[\"CGPA\"])  # Features (grades in various courses)\n",
    "y = data[\"CGPA\"]  # Target variable (CGPA)"
   ]
  },
  {
   "cell_type": "markdown",
   "id": "0940840d",
   "metadata": {},
   "source": [
    "## Data Preprocessing:\n",
    "Handling Missing Values: This was carried out using scikit-learn's SimpleImputer class with strategies to replace missing numerical values with mean and missing categorical values with a constant placeholder.\n",
    "Feature Engineering: No explicit feature engineering is being done in the current analysis. If required, additional features can be engineered in this process, like the mean grade per year or the sum of credits gained, to better improve model performance in future iterations."
   ]
  },
  {
   "cell_type": "code",
   "execution_count": 5,
   "id": "8904a516",
   "metadata": {},
   "outputs": [],
   "source": [
    "# Define preprocessing steps for numerical and categorical features\n",
    "numeric_features = X.select_dtypes(include=['int64', 'float64']).columns\n",
    "categorical_features = X.select_dtypes(include=['object']).columns"
   ]
  },
  {
   "cell_type": "code",
   "execution_count": 6,
   "id": "f90b9cda",
   "metadata": {},
   "outputs": [],
   "source": [
    "numeric_transformer = Pipeline(steps=[\n",
    "    ('imputer', SimpleImputer(strategy='mean')),\n",
    "    ('scaler', StandardScaler())])"
   ]
  },
  {
   "cell_type": "code",
   "execution_count": 7,
   "id": "b14a68da",
   "metadata": {},
   "outputs": [],
   "source": [
    "categorical_transformer = Pipeline(steps=[\n",
    "    ('imputer', SimpleImputer(strategy='constant', fill_value='missing')),\n",
    "    ('onehot', OneHotEncoder(handle_unknown='ignore'))])"
   ]
  },
  {
   "cell_type": "code",
   "execution_count": 8,
   "id": "a13ea8e7",
   "metadata": {},
   "outputs": [],
   "source": [
    "preprocessor = ColumnTransformer(\n",
    "    transformers=[\n",
    "        ('num', numeric_transformer, numeric_features),\n",
    "        ('cat', categorical_transformer, categorical_features)])"
   ]
  },
  {
   "cell_type": "markdown",
   "id": "e5d36118",
   "metadata": {},
   "source": [
    "## Model Selection and Training:\n",
    "Model selection: After preprocessing, a regression model was fit in a pipeline. Initially, a RandomForestRegressor model was selected because it can even address the complex relationships in the data with robustness against overfitting.\n",
    "Model training: I have done the model fitting on the training set, which was split through the process of dividing the dataset into the training set and test set with 20% for testing."
   ]
  },
  {
   "cell_type": "code",
   "execution_count": 9,
   "id": "39f97f0b",
   "metadata": {},
   "outputs": [],
   "source": [
    "# Split data into training and testing sets\n",
    "X_train, X_test, y_train, y_test = train_test_split(X, y, test_size=0.2, random_state=40)"
   ]
  },
  {
   "cell_type": "code",
   "execution_count": 10,
   "id": "da6ae8d8",
   "metadata": {},
   "outputs": [],
   "source": [
    "# Define the model\n",
    "model = Pipeline(steps=[('preprocessor', preprocessor),\n",
    "                        ('regressor', RandomForestRegressor())])"
   ]
  },
  {
   "cell_type": "code",
   "execution_count": 11,
   "id": "ae37ceca",
   "metadata": {},
   "outputs": [
    {
     "data": {
      "text/html": [
       "<style>#sk-container-id-1 {color: black;}#sk-container-id-1 pre{padding: 0;}#sk-container-id-1 div.sk-toggleable {background-color: white;}#sk-container-id-1 label.sk-toggleable__label {cursor: pointer;display: block;width: 100%;margin-bottom: 0;padding: 0.3em;box-sizing: border-box;text-align: center;}#sk-container-id-1 label.sk-toggleable__label-arrow:before {content: \"▸\";float: left;margin-right: 0.25em;color: #696969;}#sk-container-id-1 label.sk-toggleable__label-arrow:hover:before {color: black;}#sk-container-id-1 div.sk-estimator:hover label.sk-toggleable__label-arrow:before {color: black;}#sk-container-id-1 div.sk-toggleable__content {max-height: 0;max-width: 0;overflow: hidden;text-align: left;background-color: #f0f8ff;}#sk-container-id-1 div.sk-toggleable__content pre {margin: 0.2em;color: black;border-radius: 0.25em;background-color: #f0f8ff;}#sk-container-id-1 input.sk-toggleable__control:checked~div.sk-toggleable__content {max-height: 200px;max-width: 100%;overflow: auto;}#sk-container-id-1 input.sk-toggleable__control:checked~label.sk-toggleable__label-arrow:before {content: \"▾\";}#sk-container-id-1 div.sk-estimator input.sk-toggleable__control:checked~label.sk-toggleable__label {background-color: #d4ebff;}#sk-container-id-1 div.sk-label input.sk-toggleable__control:checked~label.sk-toggleable__label {background-color: #d4ebff;}#sk-container-id-1 input.sk-hidden--visually {border: 0;clip: rect(1px 1px 1px 1px);clip: rect(1px, 1px, 1px, 1px);height: 1px;margin: -1px;overflow: hidden;padding: 0;position: absolute;width: 1px;}#sk-container-id-1 div.sk-estimator {font-family: monospace;background-color: #f0f8ff;border: 1px dotted black;border-radius: 0.25em;box-sizing: border-box;margin-bottom: 0.5em;}#sk-container-id-1 div.sk-estimator:hover {background-color: #d4ebff;}#sk-container-id-1 div.sk-parallel-item::after {content: \"\";width: 100%;border-bottom: 1px solid gray;flex-grow: 1;}#sk-container-id-1 div.sk-label:hover label.sk-toggleable__label {background-color: #d4ebff;}#sk-container-id-1 div.sk-serial::before {content: \"\";position: absolute;border-left: 1px solid gray;box-sizing: border-box;top: 0;bottom: 0;left: 50%;z-index: 0;}#sk-container-id-1 div.sk-serial {display: flex;flex-direction: column;align-items: center;background-color: white;padding-right: 0.2em;padding-left: 0.2em;position: relative;}#sk-container-id-1 div.sk-item {position: relative;z-index: 1;}#sk-container-id-1 div.sk-parallel {display: flex;align-items: stretch;justify-content: center;background-color: white;position: relative;}#sk-container-id-1 div.sk-item::before, #sk-container-id-1 div.sk-parallel-item::before {content: \"\";position: absolute;border-left: 1px solid gray;box-sizing: border-box;top: 0;bottom: 0;left: 50%;z-index: -1;}#sk-container-id-1 div.sk-parallel-item {display: flex;flex-direction: column;z-index: 1;position: relative;background-color: white;}#sk-container-id-1 div.sk-parallel-item:first-child::after {align-self: flex-end;width: 50%;}#sk-container-id-1 div.sk-parallel-item:last-child::after {align-self: flex-start;width: 50%;}#sk-container-id-1 div.sk-parallel-item:only-child::after {width: 0;}#sk-container-id-1 div.sk-dashed-wrapped {border: 1px dashed gray;margin: 0 0.4em 0.5em 0.4em;box-sizing: border-box;padding-bottom: 0.4em;background-color: white;}#sk-container-id-1 div.sk-label label {font-family: monospace;font-weight: bold;display: inline-block;line-height: 1.2em;}#sk-container-id-1 div.sk-label-container {text-align: center;}#sk-container-id-1 div.sk-container {/* jupyter's `normalize.less` sets `[hidden] { display: none; }` but bootstrap.min.css set `[hidden] { display: none !important; }` so we also need the `!important` here to be able to override the default hidden behavior on the sphinx rendered scikit-learn.org. See: https://github.com/scikit-learn/scikit-learn/issues/21755 */display: inline-block !important;position: relative;}#sk-container-id-1 div.sk-text-repr-fallback {display: none;}</style><div id=\"sk-container-id-1\" class=\"sk-top-container\"><div class=\"sk-text-repr-fallback\"><pre>Pipeline(steps=[(&#x27;preprocessor&#x27;,\n",
       "                 ColumnTransformer(transformers=[(&#x27;num&#x27;,\n",
       "                                                  Pipeline(steps=[(&#x27;imputer&#x27;,\n",
       "                                                                   SimpleImputer()),\n",
       "                                                                  (&#x27;scaler&#x27;,\n",
       "                                                                   StandardScaler())]),\n",
       "                                                  Index([], dtype=&#x27;object&#x27;)),\n",
       "                                                 (&#x27;cat&#x27;,\n",
       "                                                  Pipeline(steps=[(&#x27;imputer&#x27;,\n",
       "                                                                   SimpleImputer(fill_value=&#x27;missing&#x27;,\n",
       "                                                                                 strategy=&#x27;constant&#x27;)),\n",
       "                                                                  (&#x27;onehot&#x27;,\n",
       "                                                                   OneHotEncoder(handle_unknown=&#x27;ignore&#x27;))]),\n",
       "                                                  Index([&#x27;Seat No.&#x27;, &#x27;PH-121&#x27;, &#x27;HS-101&#x27;, &#x27;...\n",
       "       &#x27;CS-105&#x27;, &#x27;CS-106&#x27;, &#x27;EL-102&#x27;, &#x27;EE-119&#x27;, &#x27;ME-107&#x27;, &#x27;CS-107&#x27;, &#x27;HS-205/20&#x27;,\n",
       "       &#x27;MT-222&#x27;, &#x27;EE-222&#x27;, &#x27;MT-224&#x27;, &#x27;CS-210&#x27;, &#x27;CS-211&#x27;, &#x27;CS-203&#x27;, &#x27;CS-214&#x27;,\n",
       "       &#x27;EE-217&#x27;, &#x27;CS-212&#x27;, &#x27;CS-215&#x27;, &#x27;MT-331&#x27;, &#x27;EF-303&#x27;, &#x27;HS-304&#x27;, &#x27;CS-301&#x27;,\n",
       "       &#x27;CS-302&#x27;, &#x27;TC-383&#x27;, &#x27;MT-442&#x27;, &#x27;EL-332&#x27;, &#x27;CS-318&#x27;, &#x27;CS-306&#x27;, &#x27;CS-312&#x27;,\n",
       "       &#x27;CS-317&#x27;, &#x27;CS-403&#x27;, &#x27;CS-421&#x27;, &#x27;CS-406&#x27;, &#x27;CS-414&#x27;, &#x27;CS-419&#x27;, &#x27;CS-423&#x27;,\n",
       "       &#x27;CS-412&#x27;],\n",
       "      dtype=&#x27;object&#x27;))])),\n",
       "                (&#x27;regressor&#x27;, RandomForestRegressor())])</pre><b>In a Jupyter environment, please rerun this cell to show the HTML representation or trust the notebook. <br />On GitHub, the HTML representation is unable to render, please try loading this page with nbviewer.org.</b></div><div class=\"sk-container\" hidden><div class=\"sk-item sk-dashed-wrapped\"><div class=\"sk-label-container\"><div class=\"sk-label sk-toggleable\"><input class=\"sk-toggleable__control sk-hidden--visually\" id=\"sk-estimator-id-1\" type=\"checkbox\" ><label for=\"sk-estimator-id-1\" class=\"sk-toggleable__label sk-toggleable__label-arrow\">Pipeline</label><div class=\"sk-toggleable__content\"><pre>Pipeline(steps=[(&#x27;preprocessor&#x27;,\n",
       "                 ColumnTransformer(transformers=[(&#x27;num&#x27;,\n",
       "                                                  Pipeline(steps=[(&#x27;imputer&#x27;,\n",
       "                                                                   SimpleImputer()),\n",
       "                                                                  (&#x27;scaler&#x27;,\n",
       "                                                                   StandardScaler())]),\n",
       "                                                  Index([], dtype=&#x27;object&#x27;)),\n",
       "                                                 (&#x27;cat&#x27;,\n",
       "                                                  Pipeline(steps=[(&#x27;imputer&#x27;,\n",
       "                                                                   SimpleImputer(fill_value=&#x27;missing&#x27;,\n",
       "                                                                                 strategy=&#x27;constant&#x27;)),\n",
       "                                                                  (&#x27;onehot&#x27;,\n",
       "                                                                   OneHotEncoder(handle_unknown=&#x27;ignore&#x27;))]),\n",
       "                                                  Index([&#x27;Seat No.&#x27;, &#x27;PH-121&#x27;, &#x27;HS-101&#x27;, &#x27;...\n",
       "       &#x27;CS-105&#x27;, &#x27;CS-106&#x27;, &#x27;EL-102&#x27;, &#x27;EE-119&#x27;, &#x27;ME-107&#x27;, &#x27;CS-107&#x27;, &#x27;HS-205/20&#x27;,\n",
       "       &#x27;MT-222&#x27;, &#x27;EE-222&#x27;, &#x27;MT-224&#x27;, &#x27;CS-210&#x27;, &#x27;CS-211&#x27;, &#x27;CS-203&#x27;, &#x27;CS-214&#x27;,\n",
       "       &#x27;EE-217&#x27;, &#x27;CS-212&#x27;, &#x27;CS-215&#x27;, &#x27;MT-331&#x27;, &#x27;EF-303&#x27;, &#x27;HS-304&#x27;, &#x27;CS-301&#x27;,\n",
       "       &#x27;CS-302&#x27;, &#x27;TC-383&#x27;, &#x27;MT-442&#x27;, &#x27;EL-332&#x27;, &#x27;CS-318&#x27;, &#x27;CS-306&#x27;, &#x27;CS-312&#x27;,\n",
       "       &#x27;CS-317&#x27;, &#x27;CS-403&#x27;, &#x27;CS-421&#x27;, &#x27;CS-406&#x27;, &#x27;CS-414&#x27;, &#x27;CS-419&#x27;, &#x27;CS-423&#x27;,\n",
       "       &#x27;CS-412&#x27;],\n",
       "      dtype=&#x27;object&#x27;))])),\n",
       "                (&#x27;regressor&#x27;, RandomForestRegressor())])</pre></div></div></div><div class=\"sk-serial\"><div class=\"sk-item sk-dashed-wrapped\"><div class=\"sk-label-container\"><div class=\"sk-label sk-toggleable\"><input class=\"sk-toggleable__control sk-hidden--visually\" id=\"sk-estimator-id-2\" type=\"checkbox\" ><label for=\"sk-estimator-id-2\" class=\"sk-toggleable__label sk-toggleable__label-arrow\">preprocessor: ColumnTransformer</label><div class=\"sk-toggleable__content\"><pre>ColumnTransformer(transformers=[(&#x27;num&#x27;,\n",
       "                                 Pipeline(steps=[(&#x27;imputer&#x27;, SimpleImputer()),\n",
       "                                                 (&#x27;scaler&#x27;, StandardScaler())]),\n",
       "                                 Index([], dtype=&#x27;object&#x27;)),\n",
       "                                (&#x27;cat&#x27;,\n",
       "                                 Pipeline(steps=[(&#x27;imputer&#x27;,\n",
       "                                                  SimpleImputer(fill_value=&#x27;missing&#x27;,\n",
       "                                                                strategy=&#x27;constant&#x27;)),\n",
       "                                                 (&#x27;onehot&#x27;,\n",
       "                                                  OneHotEncoder(handle_unknown=&#x27;ignore&#x27;))]),\n",
       "                                 Index([&#x27;Seat No.&#x27;, &#x27;PH-121&#x27;, &#x27;HS-101&#x27;, &#x27;CY-105&#x27;, &#x27;HS-105/12&#x27;, &#x27;MT-111&#x27;,\n",
       "       &#x27;CS-105&#x27;, &#x27;CS-106&#x27;, &#x27;EL-102&#x27;, &#x27;EE-119&#x27;, &#x27;ME-107&#x27;, &#x27;CS-107&#x27;, &#x27;HS-205/20&#x27;,\n",
       "       &#x27;MT-222&#x27;, &#x27;EE-222&#x27;, &#x27;MT-224&#x27;, &#x27;CS-210&#x27;, &#x27;CS-211&#x27;, &#x27;CS-203&#x27;, &#x27;CS-214&#x27;,\n",
       "       &#x27;EE-217&#x27;, &#x27;CS-212&#x27;, &#x27;CS-215&#x27;, &#x27;MT-331&#x27;, &#x27;EF-303&#x27;, &#x27;HS-304&#x27;, &#x27;CS-301&#x27;,\n",
       "       &#x27;CS-302&#x27;, &#x27;TC-383&#x27;, &#x27;MT-442&#x27;, &#x27;EL-332&#x27;, &#x27;CS-318&#x27;, &#x27;CS-306&#x27;, &#x27;CS-312&#x27;,\n",
       "       &#x27;CS-317&#x27;, &#x27;CS-403&#x27;, &#x27;CS-421&#x27;, &#x27;CS-406&#x27;, &#x27;CS-414&#x27;, &#x27;CS-419&#x27;, &#x27;CS-423&#x27;,\n",
       "       &#x27;CS-412&#x27;],\n",
       "      dtype=&#x27;object&#x27;))])</pre></div></div></div><div class=\"sk-parallel\"><div class=\"sk-parallel-item\"><div class=\"sk-item\"><div class=\"sk-label-container\"><div class=\"sk-label sk-toggleable\"><input class=\"sk-toggleable__control sk-hidden--visually\" id=\"sk-estimator-id-3\" type=\"checkbox\" ><label for=\"sk-estimator-id-3\" class=\"sk-toggleable__label sk-toggleable__label-arrow\">num</label><div class=\"sk-toggleable__content\"><pre>Index([], dtype=&#x27;object&#x27;)</pre></div></div></div><div class=\"sk-serial\"><div class=\"sk-item\"><div class=\"sk-serial\"><div class=\"sk-item\"><div class=\"sk-estimator sk-toggleable\"><input class=\"sk-toggleable__control sk-hidden--visually\" id=\"sk-estimator-id-4\" type=\"checkbox\" ><label for=\"sk-estimator-id-4\" class=\"sk-toggleable__label sk-toggleable__label-arrow\">SimpleImputer</label><div class=\"sk-toggleable__content\"><pre>SimpleImputer()</pre></div></div></div><div class=\"sk-item\"><div class=\"sk-estimator sk-toggleable\"><input class=\"sk-toggleable__control sk-hidden--visually\" id=\"sk-estimator-id-5\" type=\"checkbox\" ><label for=\"sk-estimator-id-5\" class=\"sk-toggleable__label sk-toggleable__label-arrow\">StandardScaler</label><div class=\"sk-toggleable__content\"><pre>StandardScaler()</pre></div></div></div></div></div></div></div></div><div class=\"sk-parallel-item\"><div class=\"sk-item\"><div class=\"sk-label-container\"><div class=\"sk-label sk-toggleable\"><input class=\"sk-toggleable__control sk-hidden--visually\" id=\"sk-estimator-id-6\" type=\"checkbox\" ><label for=\"sk-estimator-id-6\" class=\"sk-toggleable__label sk-toggleable__label-arrow\">cat</label><div class=\"sk-toggleable__content\"><pre>Index([&#x27;Seat No.&#x27;, &#x27;PH-121&#x27;, &#x27;HS-101&#x27;, &#x27;CY-105&#x27;, &#x27;HS-105/12&#x27;, &#x27;MT-111&#x27;,\n",
       "       &#x27;CS-105&#x27;, &#x27;CS-106&#x27;, &#x27;EL-102&#x27;, &#x27;EE-119&#x27;, &#x27;ME-107&#x27;, &#x27;CS-107&#x27;, &#x27;HS-205/20&#x27;,\n",
       "       &#x27;MT-222&#x27;, &#x27;EE-222&#x27;, &#x27;MT-224&#x27;, &#x27;CS-210&#x27;, &#x27;CS-211&#x27;, &#x27;CS-203&#x27;, &#x27;CS-214&#x27;,\n",
       "       &#x27;EE-217&#x27;, &#x27;CS-212&#x27;, &#x27;CS-215&#x27;, &#x27;MT-331&#x27;, &#x27;EF-303&#x27;, &#x27;HS-304&#x27;, &#x27;CS-301&#x27;,\n",
       "       &#x27;CS-302&#x27;, &#x27;TC-383&#x27;, &#x27;MT-442&#x27;, &#x27;EL-332&#x27;, &#x27;CS-318&#x27;, &#x27;CS-306&#x27;, &#x27;CS-312&#x27;,\n",
       "       &#x27;CS-317&#x27;, &#x27;CS-403&#x27;, &#x27;CS-421&#x27;, &#x27;CS-406&#x27;, &#x27;CS-414&#x27;, &#x27;CS-419&#x27;, &#x27;CS-423&#x27;,\n",
       "       &#x27;CS-412&#x27;],\n",
       "      dtype=&#x27;object&#x27;)</pre></div></div></div><div class=\"sk-serial\"><div class=\"sk-item\"><div class=\"sk-serial\"><div class=\"sk-item\"><div class=\"sk-estimator sk-toggleable\"><input class=\"sk-toggleable__control sk-hidden--visually\" id=\"sk-estimator-id-7\" type=\"checkbox\" ><label for=\"sk-estimator-id-7\" class=\"sk-toggleable__label sk-toggleable__label-arrow\">SimpleImputer</label><div class=\"sk-toggleable__content\"><pre>SimpleImputer(fill_value=&#x27;missing&#x27;, strategy=&#x27;constant&#x27;)</pre></div></div></div><div class=\"sk-item\"><div class=\"sk-estimator sk-toggleable\"><input class=\"sk-toggleable__control sk-hidden--visually\" id=\"sk-estimator-id-8\" type=\"checkbox\" ><label for=\"sk-estimator-id-8\" class=\"sk-toggleable__label sk-toggleable__label-arrow\">OneHotEncoder</label><div class=\"sk-toggleable__content\"><pre>OneHotEncoder(handle_unknown=&#x27;ignore&#x27;)</pre></div></div></div></div></div></div></div></div></div></div><div class=\"sk-item\"><div class=\"sk-estimator sk-toggleable\"><input class=\"sk-toggleable__control sk-hidden--visually\" id=\"sk-estimator-id-9\" type=\"checkbox\" ><label for=\"sk-estimator-id-9\" class=\"sk-toggleable__label sk-toggleable__label-arrow\">RandomForestRegressor</label><div class=\"sk-toggleable__content\"><pre>RandomForestRegressor()</pre></div></div></div></div></div></div></div>"
      ],
      "text/plain": [
       "Pipeline(steps=[('preprocessor',\n",
       "                 ColumnTransformer(transformers=[('num',\n",
       "                                                  Pipeline(steps=[('imputer',\n",
       "                                                                   SimpleImputer()),\n",
       "                                                                  ('scaler',\n",
       "                                                                   StandardScaler())]),\n",
       "                                                  Index([], dtype='object')),\n",
       "                                                 ('cat',\n",
       "                                                  Pipeline(steps=[('imputer',\n",
       "                                                                   SimpleImputer(fill_value='missing',\n",
       "                                                                                 strategy='constant')),\n",
       "                                                                  ('onehot',\n",
       "                                                                   OneHotEncoder(handle_unknown='ignore'))]),\n",
       "                                                  Index(['Seat No.', 'PH-121', 'HS-101', '...\n",
       "       'CS-105', 'CS-106', 'EL-102', 'EE-119', 'ME-107', 'CS-107', 'HS-205/20',\n",
       "       'MT-222', 'EE-222', 'MT-224', 'CS-210', 'CS-211', 'CS-203', 'CS-214',\n",
       "       'EE-217', 'CS-212', 'CS-215', 'MT-331', 'EF-303', 'HS-304', 'CS-301',\n",
       "       'CS-302', 'TC-383', 'MT-442', 'EL-332', 'CS-318', 'CS-306', 'CS-312',\n",
       "       'CS-317', 'CS-403', 'CS-421', 'CS-406', 'CS-414', 'CS-419', 'CS-423',\n",
       "       'CS-412'],\n",
       "      dtype='object'))])),\n",
       "                ('regressor', RandomForestRegressor())])"
      ]
     },
     "execution_count": 11,
     "metadata": {},
     "output_type": "execute_result"
    }
   ],
   "source": [
    "# Train the model\n",
    "model.fit(X_train, y_train)"
   ]
  },
  {
   "cell_type": "markdown",
   "id": "c535719a",
   "metadata": {},
   "source": [
    "## Model Tuning and Alternatives:\n",
    "No hyperparameter tuning was done in this analysis. However, tuning of the regression model's hyperparameters can be done to improve its performance further.\n",
    "Other Models: This will be followed by using an alternative regression algorithm such as LinearRegression, to observe the relative performances of the models in question and choose the best-performing model for prediction.\n"
   ]
  },
  {
   "cell_type": "code",
   "execution_count": 12,
   "id": "a46d9d2d",
   "metadata": {},
   "outputs": [],
   "source": [
    "# Define the model\n",
    "model = Pipeline(steps=[('preprocessor', preprocessor),\n",
    "                        ('regressor', LinearRegression())])  \n"
   ]
  },
  {
   "cell_type": "code",
   "execution_count": 13,
   "id": "680bf983",
   "metadata": {
    "scrolled": true
   },
   "outputs": [
    {
     "data": {
      "text/html": [
       "<style>#sk-container-id-2 {color: black;}#sk-container-id-2 pre{padding: 0;}#sk-container-id-2 div.sk-toggleable {background-color: white;}#sk-container-id-2 label.sk-toggleable__label {cursor: pointer;display: block;width: 100%;margin-bottom: 0;padding: 0.3em;box-sizing: border-box;text-align: center;}#sk-container-id-2 label.sk-toggleable__label-arrow:before {content: \"▸\";float: left;margin-right: 0.25em;color: #696969;}#sk-container-id-2 label.sk-toggleable__label-arrow:hover:before {color: black;}#sk-container-id-2 div.sk-estimator:hover label.sk-toggleable__label-arrow:before {color: black;}#sk-container-id-2 div.sk-toggleable__content {max-height: 0;max-width: 0;overflow: hidden;text-align: left;background-color: #f0f8ff;}#sk-container-id-2 div.sk-toggleable__content pre {margin: 0.2em;color: black;border-radius: 0.25em;background-color: #f0f8ff;}#sk-container-id-2 input.sk-toggleable__control:checked~div.sk-toggleable__content {max-height: 200px;max-width: 100%;overflow: auto;}#sk-container-id-2 input.sk-toggleable__control:checked~label.sk-toggleable__label-arrow:before {content: \"▾\";}#sk-container-id-2 div.sk-estimator input.sk-toggleable__control:checked~label.sk-toggleable__label {background-color: #d4ebff;}#sk-container-id-2 div.sk-label input.sk-toggleable__control:checked~label.sk-toggleable__label {background-color: #d4ebff;}#sk-container-id-2 input.sk-hidden--visually {border: 0;clip: rect(1px 1px 1px 1px);clip: rect(1px, 1px, 1px, 1px);height: 1px;margin: -1px;overflow: hidden;padding: 0;position: absolute;width: 1px;}#sk-container-id-2 div.sk-estimator {font-family: monospace;background-color: #f0f8ff;border: 1px dotted black;border-radius: 0.25em;box-sizing: border-box;margin-bottom: 0.5em;}#sk-container-id-2 div.sk-estimator:hover {background-color: #d4ebff;}#sk-container-id-2 div.sk-parallel-item::after {content: \"\";width: 100%;border-bottom: 1px solid gray;flex-grow: 1;}#sk-container-id-2 div.sk-label:hover label.sk-toggleable__label {background-color: #d4ebff;}#sk-container-id-2 div.sk-serial::before {content: \"\";position: absolute;border-left: 1px solid gray;box-sizing: border-box;top: 0;bottom: 0;left: 50%;z-index: 0;}#sk-container-id-2 div.sk-serial {display: flex;flex-direction: column;align-items: center;background-color: white;padding-right: 0.2em;padding-left: 0.2em;position: relative;}#sk-container-id-2 div.sk-item {position: relative;z-index: 1;}#sk-container-id-2 div.sk-parallel {display: flex;align-items: stretch;justify-content: center;background-color: white;position: relative;}#sk-container-id-2 div.sk-item::before, #sk-container-id-2 div.sk-parallel-item::before {content: \"\";position: absolute;border-left: 1px solid gray;box-sizing: border-box;top: 0;bottom: 0;left: 50%;z-index: -1;}#sk-container-id-2 div.sk-parallel-item {display: flex;flex-direction: column;z-index: 1;position: relative;background-color: white;}#sk-container-id-2 div.sk-parallel-item:first-child::after {align-self: flex-end;width: 50%;}#sk-container-id-2 div.sk-parallel-item:last-child::after {align-self: flex-start;width: 50%;}#sk-container-id-2 div.sk-parallel-item:only-child::after {width: 0;}#sk-container-id-2 div.sk-dashed-wrapped {border: 1px dashed gray;margin: 0 0.4em 0.5em 0.4em;box-sizing: border-box;padding-bottom: 0.4em;background-color: white;}#sk-container-id-2 div.sk-label label {font-family: monospace;font-weight: bold;display: inline-block;line-height: 1.2em;}#sk-container-id-2 div.sk-label-container {text-align: center;}#sk-container-id-2 div.sk-container {/* jupyter's `normalize.less` sets `[hidden] { display: none; }` but bootstrap.min.css set `[hidden] { display: none !important; }` so we also need the `!important` here to be able to override the default hidden behavior on the sphinx rendered scikit-learn.org. See: https://github.com/scikit-learn/scikit-learn/issues/21755 */display: inline-block !important;position: relative;}#sk-container-id-2 div.sk-text-repr-fallback {display: none;}</style><div id=\"sk-container-id-2\" class=\"sk-top-container\"><div class=\"sk-text-repr-fallback\"><pre>Pipeline(steps=[(&#x27;preprocessor&#x27;,\n",
       "                 ColumnTransformer(transformers=[(&#x27;num&#x27;,\n",
       "                                                  Pipeline(steps=[(&#x27;imputer&#x27;,\n",
       "                                                                   SimpleImputer()),\n",
       "                                                                  (&#x27;scaler&#x27;,\n",
       "                                                                   StandardScaler())]),\n",
       "                                                  Index([], dtype=&#x27;object&#x27;)),\n",
       "                                                 (&#x27;cat&#x27;,\n",
       "                                                  Pipeline(steps=[(&#x27;imputer&#x27;,\n",
       "                                                                   SimpleImputer(fill_value=&#x27;missing&#x27;,\n",
       "                                                                                 strategy=&#x27;constant&#x27;)),\n",
       "                                                                  (&#x27;onehot&#x27;,\n",
       "                                                                   OneHotEncoder(handle_unknown=&#x27;ignore&#x27;))]),\n",
       "                                                  Index([&#x27;Seat No.&#x27;, &#x27;PH-121&#x27;, &#x27;HS-101&#x27;, &#x27;...\n",
       "       &#x27;CS-105&#x27;, &#x27;CS-106&#x27;, &#x27;EL-102&#x27;, &#x27;EE-119&#x27;, &#x27;ME-107&#x27;, &#x27;CS-107&#x27;, &#x27;HS-205/20&#x27;,\n",
       "       &#x27;MT-222&#x27;, &#x27;EE-222&#x27;, &#x27;MT-224&#x27;, &#x27;CS-210&#x27;, &#x27;CS-211&#x27;, &#x27;CS-203&#x27;, &#x27;CS-214&#x27;,\n",
       "       &#x27;EE-217&#x27;, &#x27;CS-212&#x27;, &#x27;CS-215&#x27;, &#x27;MT-331&#x27;, &#x27;EF-303&#x27;, &#x27;HS-304&#x27;, &#x27;CS-301&#x27;,\n",
       "       &#x27;CS-302&#x27;, &#x27;TC-383&#x27;, &#x27;MT-442&#x27;, &#x27;EL-332&#x27;, &#x27;CS-318&#x27;, &#x27;CS-306&#x27;, &#x27;CS-312&#x27;,\n",
       "       &#x27;CS-317&#x27;, &#x27;CS-403&#x27;, &#x27;CS-421&#x27;, &#x27;CS-406&#x27;, &#x27;CS-414&#x27;, &#x27;CS-419&#x27;, &#x27;CS-423&#x27;,\n",
       "       &#x27;CS-412&#x27;],\n",
       "      dtype=&#x27;object&#x27;))])),\n",
       "                (&#x27;regressor&#x27;, LinearRegression())])</pre><b>In a Jupyter environment, please rerun this cell to show the HTML representation or trust the notebook. <br />On GitHub, the HTML representation is unable to render, please try loading this page with nbviewer.org.</b></div><div class=\"sk-container\" hidden><div class=\"sk-item sk-dashed-wrapped\"><div class=\"sk-label-container\"><div class=\"sk-label sk-toggleable\"><input class=\"sk-toggleable__control sk-hidden--visually\" id=\"sk-estimator-id-10\" type=\"checkbox\" ><label for=\"sk-estimator-id-10\" class=\"sk-toggleable__label sk-toggleable__label-arrow\">Pipeline</label><div class=\"sk-toggleable__content\"><pre>Pipeline(steps=[(&#x27;preprocessor&#x27;,\n",
       "                 ColumnTransformer(transformers=[(&#x27;num&#x27;,\n",
       "                                                  Pipeline(steps=[(&#x27;imputer&#x27;,\n",
       "                                                                   SimpleImputer()),\n",
       "                                                                  (&#x27;scaler&#x27;,\n",
       "                                                                   StandardScaler())]),\n",
       "                                                  Index([], dtype=&#x27;object&#x27;)),\n",
       "                                                 (&#x27;cat&#x27;,\n",
       "                                                  Pipeline(steps=[(&#x27;imputer&#x27;,\n",
       "                                                                   SimpleImputer(fill_value=&#x27;missing&#x27;,\n",
       "                                                                                 strategy=&#x27;constant&#x27;)),\n",
       "                                                                  (&#x27;onehot&#x27;,\n",
       "                                                                   OneHotEncoder(handle_unknown=&#x27;ignore&#x27;))]),\n",
       "                                                  Index([&#x27;Seat No.&#x27;, &#x27;PH-121&#x27;, &#x27;HS-101&#x27;, &#x27;...\n",
       "       &#x27;CS-105&#x27;, &#x27;CS-106&#x27;, &#x27;EL-102&#x27;, &#x27;EE-119&#x27;, &#x27;ME-107&#x27;, &#x27;CS-107&#x27;, &#x27;HS-205/20&#x27;,\n",
       "       &#x27;MT-222&#x27;, &#x27;EE-222&#x27;, &#x27;MT-224&#x27;, &#x27;CS-210&#x27;, &#x27;CS-211&#x27;, &#x27;CS-203&#x27;, &#x27;CS-214&#x27;,\n",
       "       &#x27;EE-217&#x27;, &#x27;CS-212&#x27;, &#x27;CS-215&#x27;, &#x27;MT-331&#x27;, &#x27;EF-303&#x27;, &#x27;HS-304&#x27;, &#x27;CS-301&#x27;,\n",
       "       &#x27;CS-302&#x27;, &#x27;TC-383&#x27;, &#x27;MT-442&#x27;, &#x27;EL-332&#x27;, &#x27;CS-318&#x27;, &#x27;CS-306&#x27;, &#x27;CS-312&#x27;,\n",
       "       &#x27;CS-317&#x27;, &#x27;CS-403&#x27;, &#x27;CS-421&#x27;, &#x27;CS-406&#x27;, &#x27;CS-414&#x27;, &#x27;CS-419&#x27;, &#x27;CS-423&#x27;,\n",
       "       &#x27;CS-412&#x27;],\n",
       "      dtype=&#x27;object&#x27;))])),\n",
       "                (&#x27;regressor&#x27;, LinearRegression())])</pre></div></div></div><div class=\"sk-serial\"><div class=\"sk-item sk-dashed-wrapped\"><div class=\"sk-label-container\"><div class=\"sk-label sk-toggleable\"><input class=\"sk-toggleable__control sk-hidden--visually\" id=\"sk-estimator-id-11\" type=\"checkbox\" ><label for=\"sk-estimator-id-11\" class=\"sk-toggleable__label sk-toggleable__label-arrow\">preprocessor: ColumnTransformer</label><div class=\"sk-toggleable__content\"><pre>ColumnTransformer(transformers=[(&#x27;num&#x27;,\n",
       "                                 Pipeline(steps=[(&#x27;imputer&#x27;, SimpleImputer()),\n",
       "                                                 (&#x27;scaler&#x27;, StandardScaler())]),\n",
       "                                 Index([], dtype=&#x27;object&#x27;)),\n",
       "                                (&#x27;cat&#x27;,\n",
       "                                 Pipeline(steps=[(&#x27;imputer&#x27;,\n",
       "                                                  SimpleImputer(fill_value=&#x27;missing&#x27;,\n",
       "                                                                strategy=&#x27;constant&#x27;)),\n",
       "                                                 (&#x27;onehot&#x27;,\n",
       "                                                  OneHotEncoder(handle_unknown=&#x27;ignore&#x27;))]),\n",
       "                                 Index([&#x27;Seat No.&#x27;, &#x27;PH-121&#x27;, &#x27;HS-101&#x27;, &#x27;CY-105&#x27;, &#x27;HS-105/12&#x27;, &#x27;MT-111&#x27;,\n",
       "       &#x27;CS-105&#x27;, &#x27;CS-106&#x27;, &#x27;EL-102&#x27;, &#x27;EE-119&#x27;, &#x27;ME-107&#x27;, &#x27;CS-107&#x27;, &#x27;HS-205/20&#x27;,\n",
       "       &#x27;MT-222&#x27;, &#x27;EE-222&#x27;, &#x27;MT-224&#x27;, &#x27;CS-210&#x27;, &#x27;CS-211&#x27;, &#x27;CS-203&#x27;, &#x27;CS-214&#x27;,\n",
       "       &#x27;EE-217&#x27;, &#x27;CS-212&#x27;, &#x27;CS-215&#x27;, &#x27;MT-331&#x27;, &#x27;EF-303&#x27;, &#x27;HS-304&#x27;, &#x27;CS-301&#x27;,\n",
       "       &#x27;CS-302&#x27;, &#x27;TC-383&#x27;, &#x27;MT-442&#x27;, &#x27;EL-332&#x27;, &#x27;CS-318&#x27;, &#x27;CS-306&#x27;, &#x27;CS-312&#x27;,\n",
       "       &#x27;CS-317&#x27;, &#x27;CS-403&#x27;, &#x27;CS-421&#x27;, &#x27;CS-406&#x27;, &#x27;CS-414&#x27;, &#x27;CS-419&#x27;, &#x27;CS-423&#x27;,\n",
       "       &#x27;CS-412&#x27;],\n",
       "      dtype=&#x27;object&#x27;))])</pre></div></div></div><div class=\"sk-parallel\"><div class=\"sk-parallel-item\"><div class=\"sk-item\"><div class=\"sk-label-container\"><div class=\"sk-label sk-toggleable\"><input class=\"sk-toggleable__control sk-hidden--visually\" id=\"sk-estimator-id-12\" type=\"checkbox\" ><label for=\"sk-estimator-id-12\" class=\"sk-toggleable__label sk-toggleable__label-arrow\">num</label><div class=\"sk-toggleable__content\"><pre>Index([], dtype=&#x27;object&#x27;)</pre></div></div></div><div class=\"sk-serial\"><div class=\"sk-item\"><div class=\"sk-serial\"><div class=\"sk-item\"><div class=\"sk-estimator sk-toggleable\"><input class=\"sk-toggleable__control sk-hidden--visually\" id=\"sk-estimator-id-13\" type=\"checkbox\" ><label for=\"sk-estimator-id-13\" class=\"sk-toggleable__label sk-toggleable__label-arrow\">SimpleImputer</label><div class=\"sk-toggleable__content\"><pre>SimpleImputer()</pre></div></div></div><div class=\"sk-item\"><div class=\"sk-estimator sk-toggleable\"><input class=\"sk-toggleable__control sk-hidden--visually\" id=\"sk-estimator-id-14\" type=\"checkbox\" ><label for=\"sk-estimator-id-14\" class=\"sk-toggleable__label sk-toggleable__label-arrow\">StandardScaler</label><div class=\"sk-toggleable__content\"><pre>StandardScaler()</pre></div></div></div></div></div></div></div></div><div class=\"sk-parallel-item\"><div class=\"sk-item\"><div class=\"sk-label-container\"><div class=\"sk-label sk-toggleable\"><input class=\"sk-toggleable__control sk-hidden--visually\" id=\"sk-estimator-id-15\" type=\"checkbox\" ><label for=\"sk-estimator-id-15\" class=\"sk-toggleable__label sk-toggleable__label-arrow\">cat</label><div class=\"sk-toggleable__content\"><pre>Index([&#x27;Seat No.&#x27;, &#x27;PH-121&#x27;, &#x27;HS-101&#x27;, &#x27;CY-105&#x27;, &#x27;HS-105/12&#x27;, &#x27;MT-111&#x27;,\n",
       "       &#x27;CS-105&#x27;, &#x27;CS-106&#x27;, &#x27;EL-102&#x27;, &#x27;EE-119&#x27;, &#x27;ME-107&#x27;, &#x27;CS-107&#x27;, &#x27;HS-205/20&#x27;,\n",
       "       &#x27;MT-222&#x27;, &#x27;EE-222&#x27;, &#x27;MT-224&#x27;, &#x27;CS-210&#x27;, &#x27;CS-211&#x27;, &#x27;CS-203&#x27;, &#x27;CS-214&#x27;,\n",
       "       &#x27;EE-217&#x27;, &#x27;CS-212&#x27;, &#x27;CS-215&#x27;, &#x27;MT-331&#x27;, &#x27;EF-303&#x27;, &#x27;HS-304&#x27;, &#x27;CS-301&#x27;,\n",
       "       &#x27;CS-302&#x27;, &#x27;TC-383&#x27;, &#x27;MT-442&#x27;, &#x27;EL-332&#x27;, &#x27;CS-318&#x27;, &#x27;CS-306&#x27;, &#x27;CS-312&#x27;,\n",
       "       &#x27;CS-317&#x27;, &#x27;CS-403&#x27;, &#x27;CS-421&#x27;, &#x27;CS-406&#x27;, &#x27;CS-414&#x27;, &#x27;CS-419&#x27;, &#x27;CS-423&#x27;,\n",
       "       &#x27;CS-412&#x27;],\n",
       "      dtype=&#x27;object&#x27;)</pre></div></div></div><div class=\"sk-serial\"><div class=\"sk-item\"><div class=\"sk-serial\"><div class=\"sk-item\"><div class=\"sk-estimator sk-toggleable\"><input class=\"sk-toggleable__control sk-hidden--visually\" id=\"sk-estimator-id-16\" type=\"checkbox\" ><label for=\"sk-estimator-id-16\" class=\"sk-toggleable__label sk-toggleable__label-arrow\">SimpleImputer</label><div class=\"sk-toggleable__content\"><pre>SimpleImputer(fill_value=&#x27;missing&#x27;, strategy=&#x27;constant&#x27;)</pre></div></div></div><div class=\"sk-item\"><div class=\"sk-estimator sk-toggleable\"><input class=\"sk-toggleable__control sk-hidden--visually\" id=\"sk-estimator-id-17\" type=\"checkbox\" ><label for=\"sk-estimator-id-17\" class=\"sk-toggleable__label sk-toggleable__label-arrow\">OneHotEncoder</label><div class=\"sk-toggleable__content\"><pre>OneHotEncoder(handle_unknown=&#x27;ignore&#x27;)</pre></div></div></div></div></div></div></div></div></div></div><div class=\"sk-item\"><div class=\"sk-estimator sk-toggleable\"><input class=\"sk-toggleable__control sk-hidden--visually\" id=\"sk-estimator-id-18\" type=\"checkbox\" ><label for=\"sk-estimator-id-18\" class=\"sk-toggleable__label sk-toggleable__label-arrow\">LinearRegression</label><div class=\"sk-toggleable__content\"><pre>LinearRegression()</pre></div></div></div></div></div></div></div>"
      ],
      "text/plain": [
       "Pipeline(steps=[('preprocessor',\n",
       "                 ColumnTransformer(transformers=[('num',\n",
       "                                                  Pipeline(steps=[('imputer',\n",
       "                                                                   SimpleImputer()),\n",
       "                                                                  ('scaler',\n",
       "                                                                   StandardScaler())]),\n",
       "                                                  Index([], dtype='object')),\n",
       "                                                 ('cat',\n",
       "                                                  Pipeline(steps=[('imputer',\n",
       "                                                                   SimpleImputer(fill_value='missing',\n",
       "                                                                                 strategy='constant')),\n",
       "                                                                  ('onehot',\n",
       "                                                                   OneHotEncoder(handle_unknown='ignore'))]),\n",
       "                                                  Index(['Seat No.', 'PH-121', 'HS-101', '...\n",
       "       'CS-105', 'CS-106', 'EL-102', 'EE-119', 'ME-107', 'CS-107', 'HS-205/20',\n",
       "       'MT-222', 'EE-222', 'MT-224', 'CS-210', 'CS-211', 'CS-203', 'CS-214',\n",
       "       'EE-217', 'CS-212', 'CS-215', 'MT-331', 'EF-303', 'HS-304', 'CS-301',\n",
       "       'CS-302', 'TC-383', 'MT-442', 'EL-332', 'CS-318', 'CS-306', 'CS-312',\n",
       "       'CS-317', 'CS-403', 'CS-421', 'CS-406', 'CS-414', 'CS-419', 'CS-423',\n",
       "       'CS-412'],\n",
       "      dtype='object'))])),\n",
       "                ('regressor', LinearRegression())])"
      ]
     },
     "execution_count": 13,
     "metadata": {},
     "output_type": "execute_result"
    }
   ],
   "source": [
    "# Train the model\n",
    "model.fit(X_train, y_train)"
   ]
  },
  {
   "cell_type": "markdown",
   "id": "1552194e",
   "metadata": {},
   "source": [
    "## Predict the model"
   ]
  },
  {
   "cell_type": "code",
   "execution_count": 14,
   "id": "c021cde9",
   "metadata": {},
   "outputs": [],
   "source": [
    "# Make predictions\n",
    "y_pred = model.predict(X_test)\n"
   ]
  },
  {
   "cell_type": "markdown",
   "id": "5e0a3f2a",
   "metadata": {},
   "source": [
    "## Evaluate the model"
   ]
  },
  {
   "cell_type": "code",
   "execution_count": 15,
   "id": "390f148e",
   "metadata": {},
   "outputs": [
    {
     "name": "stdout",
     "output_type": "stream",
     "text": [
      "Mean Squared Error: 0.015009588169150993\n"
     ]
    }
   ],
   "source": [
    "# Evaluate the model\n",
    "mse = mean_squared_error(y_test, y_pred)\n",
    "print(\"Mean Squared Error:\", mse)"
   ]
  },
  {
   "cell_type": "markdown",
   "id": "a633c0e3",
   "metadata": {},
   "source": [
    "## Conclusion: \n",
    "This sought to predict a student's CGPA using grades from various courses done over the student's university life. The provided data set is what the regression model would be trained on and tested against; the first option is a RandomForestRegressor. Further iterations might include the alternative models shown and the features engineered or hyperparameterized in the pursuit of improvements of predictivenesses."
   ]
  }
 ],
 "metadata": {
  "kernelspec": {
   "display_name": "Python 3 (ipykernel)",
   "language": "python",
   "name": "python3"
  },
  "language_info": {
   "codemirror_mode": {
    "name": "ipython",
    "version": 3
   },
   "file_extension": ".py",
   "mimetype": "text/x-python",
   "name": "python",
   "nbconvert_exporter": "python",
   "pygments_lexer": "ipython3",
   "version": "3.11.5"
  }
 },
 "nbformat": 4,
 "nbformat_minor": 5
}
