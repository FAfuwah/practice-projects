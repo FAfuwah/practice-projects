{
 "cells": [
  {
   "cell_type": "markdown",
   "id": "a3c9f335",
   "metadata": {},
   "source": [
    "### Title: Glass Identification project by Francis Afuwah"
   ]
  },
  {
   "cell_type": "markdown",
   "id": "c65c4137",
   "metadata": {},
   "source": [
    "### Introduction:\n",
    "\n",
    "Glass is the material that finds its application and use in more domains than any other substance. Proper and accurate classification of these types of glasses according to their composition has great importance in quality control, material science research, and forensic investigation. In this report, we present a predictive model for classifying glass types based on their chemical composition.\n",
    "\n",
    "### Objective: \n",
    "The objective of the project was to develop a model using machine learning that will correctly classify between different types of glasses based on their chemical features.\n",
    "The model aims to assist researchers,json manufacturers, and forensic experts in an improved efficiency way of identifying the type of glass from its composition with improved efficiency and accuracy in different applications."
   ]
  },
  {
   "cell_type": "markdown",
   "id": "9ef5374d",
   "metadata": {},
   "source": [
    "### Data Description:\n",
    "\n",
    "The database taken is from chemical composition measurements for: float-processed, vehicle windows, containers, tableware, and headlamp types. It includes the refractive index and relative concentration of the following 8 elements: Na, Mg, Al, Si, K, Ca, Ba, Fe."
   ]
  },
  {
   "cell_type": "markdown",
   "id": "52f8aea4",
   "metadata": {},
   "source": [
    "### Import necessary libraries"
   ]
  },
  {
   "cell_type": "code",
   "execution_count": 1,
   "id": "d5d75a18",
   "metadata": {},
   "outputs": [],
   "source": [
    "import pandas as pd\n",
    "from sklearn.model_selection import train_test_split\n",
    "from sklearn.linear_model import LogisticRegression\n",
    "from sklearn.metrics import accuracy_score"
   ]
  },
  {
   "cell_type": "markdown",
   "id": "850d84f4",
   "metadata": {},
   "source": [
    "### Data Pre-processing: \n",
    "The dataset was pre-processed in order to fill the missing values, encode the categorical variables, and normalize the numerical features, so they were uniform and, in general, improve the model's performance"
   ]
  },
  {
   "cell_type": "code",
   "execution_count": 2,
   "id": "990f08e9",
   "metadata": {},
   "outputs": [],
   "source": [
    "# Load the dataset with the first row as column names\n",
    "data = pd.read_csv(\"Glass Identification.csv\", header=None)\n"
   ]
  },
  {
   "cell_type": "code",
   "execution_count": 3,
   "id": "05ed1631",
   "metadata": {},
   "outputs": [],
   "source": [
    "# Renaming the columns using numeric indices\n",
    "data.columns = ['col1', 'col2', 'col3', 'col4', 'col5', 'col6', 'col7', 'col8', 'col9', 'col10', 'target']\n"
   ]
  },
  {
   "cell_type": "code",
   "execution_count": 4,
   "id": "513e65cb",
   "metadata": {},
   "outputs": [
    {
     "name": "stdout",
     "output_type": "stream",
     "text": [
      "   col1     col2   col3  col4  col5   col6  col7  col8  col9  col10  target\n",
      "0     1  1.52101  13.64  4.49  1.10  71.78  0.06  8.75   0.0    0.0       1\n",
      "1     2  1.51761  13.89  3.60  1.36  72.73  0.48  7.83   0.0    0.0       1\n",
      "2     3  1.51618  13.53  3.55  1.54  72.99  0.39  7.78   0.0    0.0       1\n",
      "3     4  1.51766  13.21  3.69  1.29  72.61  0.57  8.22   0.0    0.0       1\n",
      "4     5  1.51742  13.27  3.62  1.24  73.08  0.55  8.07   0.0    0.0       1\n"
     ]
    }
   ],
   "source": [
    "# Display the first few rows to verify the changes\n",
    "print(data.head())"
   ]
  },
  {
   "cell_type": "code",
   "execution_count": 5,
   "id": "0b13e177",
   "metadata": {
    "scrolled": true
   },
   "outputs": [
    {
     "name": "stdout",
     "output_type": "stream",
     "text": [
      "     col1     col2   col3  col4  col5   col6  col7  col8  col9  col10  target\n",
      "209   210  1.51623  14.14   0.0  2.88  72.61  0.08  9.18  1.06    0.0       7\n",
      "210   211  1.51685  14.92   0.0  1.99  73.06  0.00  8.40  1.59    0.0       7\n",
      "211   212  1.52065  14.36   0.0  2.02  73.42  0.00  8.44  1.64    0.0       7\n",
      "212   213  1.51651  14.38   0.0  1.94  73.61  0.00  8.48  1.57    0.0       7\n",
      "213   214  1.51711  14.23   0.0  2.08  73.36  0.00  8.62  1.67    0.0       7\n"
     ]
    }
   ],
   "source": [
    "# Display the last few rows to verify the changes\n",
    "print(data.tail())"
   ]
  },
  {
   "cell_type": "code",
   "execution_count": 6,
   "id": "41422ffc",
   "metadata": {
    "scrolled": true
   },
   "outputs": [
    {
     "name": "stdout",
     "output_type": "stream",
     "text": [
      "<class 'pandas.core.frame.DataFrame'>\n",
      "RangeIndex: 214 entries, 0 to 213\n",
      "Data columns (total 11 columns):\n",
      " #   Column  Non-Null Count  Dtype  \n",
      "---  ------  --------------  -----  \n",
      " 0   col1    214 non-null    int64  \n",
      " 1   col2    214 non-null    float64\n",
      " 2   col3    214 non-null    float64\n",
      " 3   col4    214 non-null    float64\n",
      " 4   col5    214 non-null    float64\n",
      " 5   col6    214 non-null    float64\n",
      " 6   col7    214 non-null    float64\n",
      " 7   col8    214 non-null    float64\n",
      " 8   col9    214 non-null    float64\n",
      " 9   col10   214 non-null    float64\n",
      " 10  target  214 non-null    int64  \n",
      "dtypes: float64(9), int64(2)\n",
      "memory usage: 18.5 KB\n"
     ]
    }
   ],
   "source": [
    "data.info()"
   ]
  },
  {
   "cell_type": "code",
   "execution_count": 7,
   "id": "4e62d854",
   "metadata": {
    "scrolled": true
   },
   "outputs": [
    {
     "data": {
      "text/plain": [
       "col1      0\n",
       "col2      0\n",
       "col3      0\n",
       "col4      0\n",
       "col5      0\n",
       "col6      0\n",
       "col7      0\n",
       "col8      0\n",
       "col9      0\n",
       "col10     0\n",
       "target    0\n",
       "dtype: int64"
      ]
     },
     "execution_count": 7,
     "metadata": {},
     "output_type": "execute_result"
    }
   ],
   "source": [
    "# checking null values\n",
    "data.isnull().sum()"
   ]
  },
  {
   "cell_type": "code",
   "execution_count": 8,
   "id": "de4ecf4c",
   "metadata": {
    "scrolled": true
   },
   "outputs": [
    {
     "data": {
      "text/html": [
       "<div>\n",
       "<style scoped>\n",
       "    .dataframe tbody tr th:only-of-type {\n",
       "        vertical-align: middle;\n",
       "    }\n",
       "\n",
       "    .dataframe tbody tr th {\n",
       "        vertical-align: top;\n",
       "    }\n",
       "\n",
       "    .dataframe thead th {\n",
       "        text-align: right;\n",
       "    }\n",
       "</style>\n",
       "<table border=\"1\" class=\"dataframe\">\n",
       "  <thead>\n",
       "    <tr style=\"text-align: right;\">\n",
       "      <th></th>\n",
       "      <th>col1</th>\n",
       "      <th>col2</th>\n",
       "      <th>col3</th>\n",
       "      <th>col4</th>\n",
       "      <th>col5</th>\n",
       "      <th>col6</th>\n",
       "      <th>col7</th>\n",
       "      <th>col8</th>\n",
       "      <th>col9</th>\n",
       "      <th>col10</th>\n",
       "      <th>target</th>\n",
       "    </tr>\n",
       "  </thead>\n",
       "  <tbody>\n",
       "  </tbody>\n",
       "</table>\n",
       "</div>"
      ],
      "text/plain": [
       "Empty DataFrame\n",
       "Columns: [col1, col2, col3, col4, col5, col6, col7, col8, col9, col10, target]\n",
       "Index: []"
      ]
     },
     "execution_count": 8,
     "metadata": {},
     "output_type": "execute_result"
    }
   ],
   "source": [
    "# checking duplicate value in dataset\n",
    "data[data.duplicated()]"
   ]
  },
  {
   "cell_type": "code",
   "execution_count": 9,
   "id": "11771352",
   "metadata": {},
   "outputs": [],
   "source": [
    "# Handle duplicated values\n",
    "data = data.drop_duplicates(keep=\"first\")"
   ]
  },
  {
   "cell_type": "markdown",
   "id": "1d5f70be",
   "metadata": {},
   "source": [
    "### Model Selection: \n",
    "Logistic regression algorithm was applied, which will help in the best comparison of the model with the task"
   ]
  },
  {
   "cell_type": "code",
   "execution_count": 10,
   "id": "88e9f6bb",
   "metadata": {},
   "outputs": [],
   "source": [
    "# Split the dataset into features (X) and the target variable (y)\n",
    "X = data.drop('target', axis=1)\n",
    "y = data['target']"
   ]
  },
  {
   "cell_type": "code",
   "execution_count": 11,
   "id": "3ed1d791",
   "metadata": {},
   "outputs": [],
   "source": [
    "# Split the dataset into training and testing sets\n",
    "X_train, X_test, y_train, y_test = train_test_split(X, y, test_size=0.5, random_state=40)"
   ]
  },
  {
   "cell_type": "code",
   "execution_count": 12,
   "id": "ee215a2f",
   "metadata": {
    "scrolled": true
   },
   "outputs": [
    {
     "name": "stderr",
     "output_type": "stream",
     "text": [
      "c:\\anaconda\\Lib\\site-packages\\sklearn\\linear_model\\_logistic.py:460: ConvergenceWarning: lbfgs failed to converge (status=1):\n",
      "STOP: TOTAL NO. of ITERATIONS REACHED LIMIT.\n",
      "\n",
      "Increase the number of iterations (max_iter) or scale the data as shown in:\n",
      "    https://scikit-learn.org/stable/modules/preprocessing.html\n",
      "Please also refer to the documentation for alternative solver options:\n",
      "    https://scikit-learn.org/stable/modules/linear_model.html#logistic-regression\n",
      "  n_iter_i = _check_optimize_result(\n"
     ]
    },
    {
     "data": {
      "text/html": [
       "<style>#sk-container-id-1 {color: black;}#sk-container-id-1 pre{padding: 0;}#sk-container-id-1 div.sk-toggleable {background-color: white;}#sk-container-id-1 label.sk-toggleable__label {cursor: pointer;display: block;width: 100%;margin-bottom: 0;padding: 0.3em;box-sizing: border-box;text-align: center;}#sk-container-id-1 label.sk-toggleable__label-arrow:before {content: \"▸\";float: left;margin-right: 0.25em;color: #696969;}#sk-container-id-1 label.sk-toggleable__label-arrow:hover:before {color: black;}#sk-container-id-1 div.sk-estimator:hover label.sk-toggleable__label-arrow:before {color: black;}#sk-container-id-1 div.sk-toggleable__content {max-height: 0;max-width: 0;overflow: hidden;text-align: left;background-color: #f0f8ff;}#sk-container-id-1 div.sk-toggleable__content pre {margin: 0.2em;color: black;border-radius: 0.25em;background-color: #f0f8ff;}#sk-container-id-1 input.sk-toggleable__control:checked~div.sk-toggleable__content {max-height: 200px;max-width: 100%;overflow: auto;}#sk-container-id-1 input.sk-toggleable__control:checked~label.sk-toggleable__label-arrow:before {content: \"▾\";}#sk-container-id-1 div.sk-estimator input.sk-toggleable__control:checked~label.sk-toggleable__label {background-color: #d4ebff;}#sk-container-id-1 div.sk-label input.sk-toggleable__control:checked~label.sk-toggleable__label {background-color: #d4ebff;}#sk-container-id-1 input.sk-hidden--visually {border: 0;clip: rect(1px 1px 1px 1px);clip: rect(1px, 1px, 1px, 1px);height: 1px;margin: -1px;overflow: hidden;padding: 0;position: absolute;width: 1px;}#sk-container-id-1 div.sk-estimator {font-family: monospace;background-color: #f0f8ff;border: 1px dotted black;border-radius: 0.25em;box-sizing: border-box;margin-bottom: 0.5em;}#sk-container-id-1 div.sk-estimator:hover {background-color: #d4ebff;}#sk-container-id-1 div.sk-parallel-item::after {content: \"\";width: 100%;border-bottom: 1px solid gray;flex-grow: 1;}#sk-container-id-1 div.sk-label:hover label.sk-toggleable__label {background-color: #d4ebff;}#sk-container-id-1 div.sk-serial::before {content: \"\";position: absolute;border-left: 1px solid gray;box-sizing: border-box;top: 0;bottom: 0;left: 50%;z-index: 0;}#sk-container-id-1 div.sk-serial {display: flex;flex-direction: column;align-items: center;background-color: white;padding-right: 0.2em;padding-left: 0.2em;position: relative;}#sk-container-id-1 div.sk-item {position: relative;z-index: 1;}#sk-container-id-1 div.sk-parallel {display: flex;align-items: stretch;justify-content: center;background-color: white;position: relative;}#sk-container-id-1 div.sk-item::before, #sk-container-id-1 div.sk-parallel-item::before {content: \"\";position: absolute;border-left: 1px solid gray;box-sizing: border-box;top: 0;bottom: 0;left: 50%;z-index: -1;}#sk-container-id-1 div.sk-parallel-item {display: flex;flex-direction: column;z-index: 1;position: relative;background-color: white;}#sk-container-id-1 div.sk-parallel-item:first-child::after {align-self: flex-end;width: 50%;}#sk-container-id-1 div.sk-parallel-item:last-child::after {align-self: flex-start;width: 50%;}#sk-container-id-1 div.sk-parallel-item:only-child::after {width: 0;}#sk-container-id-1 div.sk-dashed-wrapped {border: 1px dashed gray;margin: 0 0.4em 0.5em 0.4em;box-sizing: border-box;padding-bottom: 0.4em;background-color: white;}#sk-container-id-1 div.sk-label label {font-family: monospace;font-weight: bold;display: inline-block;line-height: 1.2em;}#sk-container-id-1 div.sk-label-container {text-align: center;}#sk-container-id-1 div.sk-container {/* jupyter's `normalize.less` sets `[hidden] { display: none; }` but bootstrap.min.css set `[hidden] { display: none !important; }` so we also need the `!important` here to be able to override the default hidden behavior on the sphinx rendered scikit-learn.org. See: https://github.com/scikit-learn/scikit-learn/issues/21755 */display: inline-block !important;position: relative;}#sk-container-id-1 div.sk-text-repr-fallback {display: none;}</style><div id=\"sk-container-id-1\" class=\"sk-top-container\"><div class=\"sk-text-repr-fallback\"><pre>LogisticRegression()</pre><b>In a Jupyter environment, please rerun this cell to show the HTML representation or trust the notebook. <br />On GitHub, the HTML representation is unable to render, please try loading this page with nbviewer.org.</b></div><div class=\"sk-container\" hidden><div class=\"sk-item\"><div class=\"sk-estimator sk-toggleable\"><input class=\"sk-toggleable__control sk-hidden--visually\" id=\"sk-estimator-id-1\" type=\"checkbox\" checked><label for=\"sk-estimator-id-1\" class=\"sk-toggleable__label sk-toggleable__label-arrow\">LogisticRegression</label><div class=\"sk-toggleable__content\"><pre>LogisticRegression()</pre></div></div></div></div></div>"
      ],
      "text/plain": [
       "LogisticRegression()"
      ]
     },
     "execution_count": 12,
     "metadata": {},
     "output_type": "execute_result"
    }
   ],
   "source": [
    "# Train the model\n",
    "model = LogisticRegression()\n",
    "model.fit(X_train, y_train)"
   ]
  },
  {
   "cell_type": "code",
   "execution_count": 13,
   "id": "fa54b7dd",
   "metadata": {},
   "outputs": [],
   "source": [
    "# Make predictions on the testing data\n",
    "y_pred = model.predict(X_test)"
   ]
  },
  {
   "cell_type": "code",
   "execution_count": 14,
   "id": "aae9af67",
   "metadata": {},
   "outputs": [
    {
     "name": "stdout",
     "output_type": "stream",
     "text": [
      "Accuracy: 0.9813084112149533\n"
     ]
    }
   ],
   "source": [
    "# Evaluate the model\n",
    "accuracy = accuracy_score(y_test, y_pred)\n",
    "print(\"Accuracy:\", accuracy)"
   ]
  },
  {
   "cell_type": "markdown",
   "id": "f6258407",
   "metadata": {},
   "source": [
    "### Conclusion: \n",
    "The developed predictive model shows promising results in the classification of the types of glass according to the type of chemical composition. While the high accuracy is promising, some validation on the model's performance with different sets of data should be sought, such that performance is assessed in light of generalization to other sample data.  In this case, the model scored a test dataset accuracy of 98.1%, which means perfectly classifying the different types of glass from their chemical composition. However, further analysis showed there might be problems with overfitting and generalization to some unseen data.\n",
    "\n",
    "This would, therefore, need further validation and refinement in order to make these robust and reliable for usage in the real world. Further work could be considered, such as refining the model with domain knowledge and attempting ensemble methods to improve the performance and robustness of the model. Generally, it would be of help or handy as a tool to researchers, manufacturers, and forensic experts in the analysis and classifying of glass materials."
   ]
  },
  {
   "cell_type": "code",
   "execution_count": null,
   "id": "6a15d7b2",
   "metadata": {},
   "outputs": [],
   "source": []
  }
 ],
 "metadata": {
  "kernelspec": {
   "display_name": "Python 3 (ipykernel)",
   "language": "python",
   "name": "python3"
  },
  "language_info": {
   "codemirror_mode": {
    "name": "ipython",
    "version": 3
   },
   "file_extension": ".py",
   "mimetype": "text/x-python",
   "name": "python",
   "nbconvert_exporter": "python",
   "pygments_lexer": "ipython3",
   "version": "3.11.5"
  }
 },
 "nbformat": 4,
 "nbformat_minor": 5
}
